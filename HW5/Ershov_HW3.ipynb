{
 "cells": [
  {
   "cell_type": "markdown",
   "metadata": {},
   "source": [
    "выбранный организм - Zebrafish\n",
    "\n",
    "выбранный хромосома - chr10"
   ]
  },
  {
   "cell_type": "code",
   "execution_count": 4,
   "metadata": {},
   "outputs": [],
   "source": [
    "import pandas as pd\n",
    "import re\n",
    "from Bio import SeqIO"
   ]
  },
  {
   "cell_type": "code",
   "execution_count": 26,
   "metadata": {},
   "outputs": [],
   "source": [
    "DEBUG = False"
   ]
  },
  {
   "cell_type": "markdown",
   "metadata": {},
   "source": [
    "# Задание №1: найти количество Z-ДНК в геноме"
   ]
  },
  {
   "cell_type": "markdown",
   "metadata": {},
   "source": [
    "**Скомпилируем zhunt3-alan.c**"
   ]
  },
  {
   "cell_type": "code",
   "execution_count": 3,
   "metadata": {},
   "outputs": [],
   "source": [
    "!gcc zhunt3-alan.c -lm -o zhunt3\n",
    "!chmod a+x zhunt3"
   ]
  },
  {
   "cell_type": "markdown",
   "metadata": {},
   "source": [
    "**Скачаем нужные хромосому**"
   ]
  },
  {
   "cell_type": "code",
   "execution_count": 4,
   "metadata": {},
   "outputs": [
    {
     "name": "stdout",
     "output_type": "stream",
     "text": [
      "--2022-06-13 16:00:15--  https://hgdownload.soe.ucsc.edu/goldenPath/danRer6/chromosomes/chr10.fa.gz\n",
      "Распознаётся hgdownload.soe.ucsc.edu (hgdownload.soe.ucsc.edu)… 128.114.119.163\n",
      "Подключение к hgdownload.soe.ucsc.edu (hgdownload.soe.ucsc.edu)|128.114.119.163|:443... соединение установлено.\n",
      "HTTP-запрос отправлен. Ожидание ответа… 200 OK\n",
      "Длина: 14020840 (13M) [application/x-gzip]\n",
      "Сохранение в: «chr10.fa.gz»\n",
      "\n",
      "chr10.fa.gz         100%[===================>]  13,37M  3,48MB/s    за 4,8s    \n",
      "\n",
      "2022-06-13 16:00:21 (2,79 MB/s) - «chr10.fa.gz» сохранён [14020840/14020840]\n",
      "\n"
     ]
    }
   ],
   "source": [
    "!wget https://hgdownload.soe.ucsc.edu/goldenPath/danRer6/chromosomes/chr10.fa.gz\n",
    "!gunzip chr10.fa.gz"
   ]
  },
  {
   "cell_type": "markdown",
   "metadata": {},
   "source": [
    "**Обработаем скаченную хромосому**"
   ]
  },
  {
   "cell_type": "code",
   "execution_count": 5,
   "metadata": {},
   "outputs": [
    {
     "name": "stdout",
     "output_type": "stream",
     "text": [
      "dinucleotides 12\n",
      "min/max 8 12\n",
      "min/max 8 12\n",
      "operating on chr10.fa\n",
      "calculating zscore\n",
      "opening chr10.fa\n",
      "inputting sequence\n",
      "opening chr10.fa.Z-SCORE\n",
      "\n",
      " run time=4814 sec\n",
      "use min/max 8 12\n",
      "analyzing_zscore\n",
      "opening chr10.fa.Z-SCORE\n",
      "opening chr10.fa\n",
      "inputting sequence\n"
     ]
    }
   ],
   "source": [
    "!./zhunt3 12 8 12 chr10.fa"
   ]
  },
  {
   "cell_type": "code",
   "execution_count": 2,
   "metadata": {},
   "outputs": [
    {
     "data": {
      "text/html": [
       "<div>\n",
       "<style scoped>\n",
       "    .dataframe tbody tr th:only-of-type {\n",
       "        vertical-align: middle;\n",
       "    }\n",
       "\n",
       "    .dataframe tbody tr th {\n",
       "        vertical-align: top;\n",
       "    }\n",
       "\n",
       "    .dataframe thead th {\n",
       "        text-align: right;\n",
       "    }\n",
       "</style>\n",
       "<table border=\"1\" class=\"dataframe\">\n",
       "  <thead>\n",
       "    <tr style=\"text-align: right;\">\n",
       "      <th></th>\n",
       "      <th>Start</th>\n",
       "      <th>End</th>\n",
       "      <th>info1</th>\n",
       "      <th>info2</th>\n",
       "      <th>info3</th>\n",
       "      <th>ZScore</th>\n",
       "      <th>ZSeq</th>\n",
       "      <th>info4</th>\n",
       "    </tr>\n",
       "  </thead>\n",
       "  <tbody>\n",
       "    <tr>\n",
       "      <th>0</th>\n",
       "      <td>1</td>\n",
       "      <td>25</td>\n",
       "      <td>24</td>\n",
       "      <td>19.654</td>\n",
       "      <td>63.518</td>\n",
       "      <td>8455.962</td>\n",
       "      <td>ccacacacacacacacacacacac</td>\n",
       "      <td>SASASASASASASASASASASASA</td>\n",
       "    </tr>\n",
       "    <tr>\n",
       "      <th>1</th>\n",
       "      <td>2</td>\n",
       "      <td>26</td>\n",
       "      <td>24</td>\n",
       "      <td>19.443</td>\n",
       "      <td>65.103</td>\n",
       "      <td>11495.270</td>\n",
       "      <td>cacacacacacacacacacacaca</td>\n",
       "      <td>ASASASASASASASASASASASAS</td>\n",
       "    </tr>\n",
       "    <tr>\n",
       "      <th>2</th>\n",
       "      <td>3</td>\n",
       "      <td>27</td>\n",
       "      <td>24</td>\n",
       "      <td>19.443</td>\n",
       "      <td>65.103</td>\n",
       "      <td>11495.270</td>\n",
       "      <td>acacacacacacacacacacacac</td>\n",
       "      <td>SASASASASASASASASASASASA</td>\n",
       "    </tr>\n",
       "    <tr>\n",
       "      <th>3</th>\n",
       "      <td>4</td>\n",
       "      <td>28</td>\n",
       "      <td>24</td>\n",
       "      <td>19.443</td>\n",
       "      <td>65.103</td>\n",
       "      <td>11495.270</td>\n",
       "      <td>cacacacacacacacacacacaca</td>\n",
       "      <td>ASASASASASASASASASASASAS</td>\n",
       "    </tr>\n",
       "    <tr>\n",
       "      <th>4</th>\n",
       "      <td>5</td>\n",
       "      <td>29</td>\n",
       "      <td>24</td>\n",
       "      <td>19.443</td>\n",
       "      <td>65.103</td>\n",
       "      <td>11495.270</td>\n",
       "      <td>acacacacacacacacacacacac</td>\n",
       "      <td>SASASASASASASASASASASASA</td>\n",
       "    </tr>\n",
       "    <tr>\n",
       "      <th>...</th>\n",
       "      <td>...</td>\n",
       "      <td>...</td>\n",
       "      <td>...</td>\n",
       "      <td>...</td>\n",
       "      <td>...</td>\n",
       "      <td>...</td>\n",
       "      <td>...</td>\n",
       "      <td>...</td>\n",
       "    </tr>\n",
       "    <tr>\n",
       "      <th>43467557</th>\n",
       "      <td>43467558</td>\n",
       "      <td>43467582</td>\n",
       "      <td>24</td>\n",
       "      <td>20.491</td>\n",
       "      <td>56.305</td>\n",
       "      <td>2646.829</td>\n",
       "      <td>cagatccacacacacacacacaca</td>\n",
       "      <td>ASASASASASASASASASASASAS</td>\n",
       "    </tr>\n",
       "    <tr>\n",
       "      <th>43467558</th>\n",
       "      <td>43467559</td>\n",
       "      <td>43467583</td>\n",
       "      <td>24</td>\n",
       "      <td>20.369</td>\n",
       "      <td>57.863</td>\n",
       "      <td>3120.330</td>\n",
       "      <td>agatccacacacacacacacacac</td>\n",
       "      <td>SASASASASASASASASASASASA</td>\n",
       "    </tr>\n",
       "    <tr>\n",
       "      <th>43467559</th>\n",
       "      <td>43467560</td>\n",
       "      <td>43467584</td>\n",
       "      <td>24</td>\n",
       "      <td>20.052</td>\n",
       "      <td>60.057</td>\n",
       "      <td>4810.976</td>\n",
       "      <td>gatccacacacacacacacacaca</td>\n",
       "      <td>ASASASASASASASASASASASAS</td>\n",
       "    </tr>\n",
       "    <tr>\n",
       "      <th>43467560</th>\n",
       "      <td>43467561</td>\n",
       "      <td>43467585</td>\n",
       "      <td>24</td>\n",
       "      <td>19.963</td>\n",
       "      <td>61.141</td>\n",
       "      <td>5447.917</td>\n",
       "      <td>atccacacacacacacacacacac</td>\n",
       "      <td>SASASASASASASASASASASASA</td>\n",
       "    </tr>\n",
       "    <tr>\n",
       "      <th>43467561</th>\n",
       "      <td>43467562</td>\n",
       "      <td>43467586</td>\n",
       "      <td>24</td>\n",
       "      <td>19.706</td>\n",
       "      <td>62.971</td>\n",
       "      <td>7841.543</td>\n",
       "      <td>tccacacacacacacacacacaca</td>\n",
       "      <td>ASASASASASASASASASASASAS</td>\n",
       "    </tr>\n",
       "  </tbody>\n",
       "</table>\n",
       "<p>43467562 rows × 8 columns</p>\n",
       "</div>"
      ],
      "text/plain": [
       "             Start       End  info1   info2   info3     ZScore  \\\n",
       "0                1        25     24  19.654  63.518   8455.962   \n",
       "1                2        26     24  19.443  65.103  11495.270   \n",
       "2                3        27     24  19.443  65.103  11495.270   \n",
       "3                4        28     24  19.443  65.103  11495.270   \n",
       "4                5        29     24  19.443  65.103  11495.270   \n",
       "...            ...       ...    ...     ...     ...        ...   \n",
       "43467557  43467558  43467582     24  20.491  56.305   2646.829   \n",
       "43467558  43467559  43467583     24  20.369  57.863   3120.330   \n",
       "43467559  43467560  43467584     24  20.052  60.057   4810.976   \n",
       "43467560  43467561  43467585     24  19.963  61.141   5447.917   \n",
       "43467561  43467562  43467586     24  19.706  62.971   7841.543   \n",
       "\n",
       "                              ZSeq                     info4  \n",
       "0         ccacacacacacacacacacacac  SASASASASASASASASASASASA  \n",
       "1         cacacacacacacacacacacaca  ASASASASASASASASASASASAS  \n",
       "2         acacacacacacacacacacacac  SASASASASASASASASASASASA  \n",
       "3         cacacacacacacacacacacaca  ASASASASASASASASASASASAS  \n",
       "4         acacacacacacacacacacacac  SASASASASASASASASASASASA  \n",
       "...                            ...                       ...  \n",
       "43467557  cagatccacacacacacacacaca  ASASASASASASASASASASASAS  \n",
       "43467558  agatccacacacacacacacacac  SASASASASASASASASASASASA  \n",
       "43467559  gatccacacacacacacacacaca  ASASASASASASASASASASASAS  \n",
       "43467560  atccacacacacacacacacacac  SASASASASASASASASASASASA  \n",
       "43467561  tccacacacacacacacacacaca  ASASASASASASASASASASASAS  \n",
       "\n",
       "[43467562 rows x 8 columns]"
      ]
     },
     "execution_count": 2,
     "metadata": {},
     "output_type": "execute_result"
    }
   ],
   "source": [
    "df = pd.read_csv(\"chr10.fa.Z-SCORE\", skiprows=1, names=[\"Start\", \"End\", \"info1\", \"info2\", \"info3\", \"ZScore\", \"ZSeq\", \"info4\"], delim_whitespace=True)\n",
    "df"
   ]
  },
  {
   "cell_type": "code",
   "execution_count": null,
   "metadata": {},
   "outputs": [
    {
     "data": {
      "text/plain": [
       "339876"
      ]
     },
     "execution_count": 15,
     "metadata": {},
     "output_type": "execute_result"
    }
   ],
   "source": [
    "zdnas = df[df[\"ZScore\"] >= 400]\n",
    "len(zdnas) # Количество участков Z-dna"
   ]
  },
  {
   "cell_type": "markdown",
   "metadata": {},
   "source": [
    "Получили, что в выбранной хромосоме **339876 Z-ДНК**"
   ]
  },
  {
   "cell_type": "markdown",
   "metadata": {},
   "source": [
    "# Задание №2: найти количество квадруплексов в геноме"
   ]
  },
  {
   "cell_type": "code",
   "execution_count": 9,
   "metadata": {},
   "outputs": [
    {
     "name": "stdout",
     "output_type": "stream",
     "text": [
      "chr10 43467561\n"
     ]
    }
   ],
   "source": [
    "fasta_sequence = SeqIO.parse(\"chr10.fa\",'fasta')\n",
    "PQS = []\n",
    "for record in fasta_sequence:\n",
    "    print(\"%s %i\" % (record.id, len(record)))\n",
    "    name, sequence = record.id, str(record.seq)\n",
    "    pattern=\"(?:G{3,}[ATGC]{1,7}){3,}G{3,}\"\n",
    "    PQS += [[m.start(),m.end(),m.group(0)] for m in re.finditer(pattern,sequence)]"
   ]
  },
  {
   "cell_type": "code",
   "execution_count": 10,
   "metadata": {},
   "outputs": [
    {
     "data": {
      "text/plain": [
       "216"
      ]
     },
     "execution_count": 10,
     "metadata": {},
     "output_type": "execute_result"
    }
   ],
   "source": [
    "len(PQS)"
   ]
  },
  {
   "cell_type": "markdown",
   "metadata": {},
   "source": [
    "Получили, что в выбранной хромосоме **216 квадруплексов**"
   ]
  },
  {
   "cell_type": "markdown",
   "metadata": {},
   "source": [
    "# Задание №3: В какие участки генома попадают Z-ДНК и квадруплексы"
   ]
  },
  {
   "cell_type": "markdown",
   "metadata": {},
   "source": [
    "Скачаем из `TableBrowser` аннотацию полного генома и откроем тут"
   ]
  },
  {
   "cell_type": "code",
   "execution_count": 11,
   "metadata": {},
   "outputs": [],
   "source": [
    "alignment = pd.read_csv(\"zebrafish_alignment_whole\", names=[\"Chromosome\", \"Start\", \"End\", \"Name\", \"Score?\", \"Strand\", \"Thickstart\", \"Thickend\", \"itemRGB\", \"smth1\", \"smth2\", \"smth3\"], delimiter=\"\\t\")"
   ]
  },
  {
   "cell_type": "code",
   "execution_count": 12,
   "metadata": {},
   "outputs": [
    {
     "data": {
      "text/html": [
       "<div>\n",
       "<style scoped>\n",
       "    .dataframe tbody tr th:only-of-type {\n",
       "        vertical-align: middle;\n",
       "    }\n",
       "\n",
       "    .dataframe tbody tr th {\n",
       "        vertical-align: top;\n",
       "    }\n",
       "\n",
       "    .dataframe thead th {\n",
       "        text-align: right;\n",
       "    }\n",
       "</style>\n",
       "<table border=\"1\" class=\"dataframe\">\n",
       "  <thead>\n",
       "    <tr style=\"text-align: right;\">\n",
       "      <th></th>\n",
       "      <th>Chromosome</th>\n",
       "      <th>Start</th>\n",
       "      <th>End</th>\n",
       "      <th>Name</th>\n",
       "      <th>Score?</th>\n",
       "      <th>Strand</th>\n",
       "      <th>Thickstart</th>\n",
       "      <th>Thickend</th>\n",
       "      <th>itemRGB</th>\n",
       "    </tr>\n",
       "  </thead>\n",
       "  <tbody>\n",
       "    <tr>\n",
       "      <th>0</th>\n",
       "      <td>chr10</td>\n",
       "      <td>302</td>\n",
       "      <td>10347</td>\n",
       "      <td>NM_001080689</td>\n",
       "      <td>0</td>\n",
       "      <td>-</td>\n",
       "      <td>302</td>\n",
       "      <td>10331</td>\n",
       "      <td>0</td>\n",
       "    </tr>\n",
       "    <tr>\n",
       "      <th>1</th>\n",
       "      <td>chr10</td>\n",
       "      <td>302</td>\n",
       "      <td>12275</td>\n",
       "      <td>NM_001347739</td>\n",
       "      <td>0</td>\n",
       "      <td>-</td>\n",
       "      <td>302</td>\n",
       "      <td>10853</td>\n",
       "      <td>0</td>\n",
       "    </tr>\n",
       "    <tr>\n",
       "      <th>2</th>\n",
       "      <td>chr10</td>\n",
       "      <td>12798</td>\n",
       "      <td>17628</td>\n",
       "      <td>NM_001003421</td>\n",
       "      <td>0</td>\n",
       "      <td>+</td>\n",
       "      <td>12820</td>\n",
       "      <td>17259</td>\n",
       "      <td>0</td>\n",
       "    </tr>\n",
       "    <tr>\n",
       "      <th>3</th>\n",
       "      <td>chr10</td>\n",
       "      <td>46801</td>\n",
       "      <td>52015</td>\n",
       "      <td>NM_199712</td>\n",
       "      <td>0</td>\n",
       "      <td>+</td>\n",
       "      <td>46963</td>\n",
       "      <td>50938</td>\n",
       "      <td>0</td>\n",
       "    </tr>\n",
       "    <tr>\n",
       "      <th>4</th>\n",
       "      <td>chr10</td>\n",
       "      <td>52092</td>\n",
       "      <td>56559</td>\n",
       "      <td>NM_001039110</td>\n",
       "      <td>0</td>\n",
       "      <td>-</td>\n",
       "      <td>53210</td>\n",
       "      <td>56542</td>\n",
       "      <td>0</td>\n",
       "    </tr>\n",
       "    <tr>\n",
       "      <th>...</th>\n",
       "      <td>...</td>\n",
       "      <td>...</td>\n",
       "      <td>...</td>\n",
       "      <td>...</td>\n",
       "      <td>...</td>\n",
       "      <td>...</td>\n",
       "      <td>...</td>\n",
       "      <td>...</td>\n",
       "      <td>...</td>\n",
       "    </tr>\n",
       "    <tr>\n",
       "      <th>582</th>\n",
       "      <td>chr10</td>\n",
       "      <td>43070310</td>\n",
       "      <td>43088696</td>\n",
       "      <td>NM_001003743</td>\n",
       "      <td>0</td>\n",
       "      <td>+</td>\n",
       "      <td>43070319</td>\n",
       "      <td>43088380</td>\n",
       "      <td>0</td>\n",
       "    </tr>\n",
       "    <tr>\n",
       "      <th>583</th>\n",
       "      <td>chr10</td>\n",
       "      <td>43091845</td>\n",
       "      <td>43093492</td>\n",
       "      <td>NM_001006044</td>\n",
       "      <td>0</td>\n",
       "      <td>-</td>\n",
       "      <td>43092739</td>\n",
       "      <td>43093402</td>\n",
       "      <td>0</td>\n",
       "    </tr>\n",
       "    <tr>\n",
       "      <th>584</th>\n",
       "      <td>chr10</td>\n",
       "      <td>43123934</td>\n",
       "      <td>43151713</td>\n",
       "      <td>NM_001003782</td>\n",
       "      <td>0</td>\n",
       "      <td>+</td>\n",
       "      <td>43123948</td>\n",
       "      <td>43151643</td>\n",
       "      <td>0</td>\n",
       "    </tr>\n",
       "    <tr>\n",
       "      <th>585</th>\n",
       "      <td>chr10</td>\n",
       "      <td>43254113</td>\n",
       "      <td>43256775</td>\n",
       "      <td>NM_001018125</td>\n",
       "      <td>0</td>\n",
       "      <td>+</td>\n",
       "      <td>43254113</td>\n",
       "      <td>43256775</td>\n",
       "      <td>0</td>\n",
       "    </tr>\n",
       "    <tr>\n",
       "      <th>586</th>\n",
       "      <td>chr10</td>\n",
       "      <td>43264416</td>\n",
       "      <td>43405225</td>\n",
       "      <td>NM_001134725</td>\n",
       "      <td>0</td>\n",
       "      <td>+</td>\n",
       "      <td>43264416</td>\n",
       "      <td>43405225</td>\n",
       "      <td>0</td>\n",
       "    </tr>\n",
       "  </tbody>\n",
       "</table>\n",
       "<p>587 rows × 9 columns</p>\n",
       "</div>"
      ],
      "text/plain": [
       "    Chromosome     Start       End          Name  Score? Strand  Thickstart  \\\n",
       "0        chr10       302     10347  NM_001080689       0      -         302   \n",
       "1        chr10       302     12275  NM_001347739       0      -         302   \n",
       "2        chr10     12798     17628  NM_001003421       0      +       12820   \n",
       "3        chr10     46801     52015     NM_199712       0      +       46963   \n",
       "4        chr10     52092     56559  NM_001039110       0      -       53210   \n",
       "..         ...       ...       ...           ...     ...    ...         ...   \n",
       "582      chr10  43070310  43088696  NM_001003743       0      +    43070319   \n",
       "583      chr10  43091845  43093492  NM_001006044       0      -    43092739   \n",
       "584      chr10  43123934  43151713  NM_001003782       0      +    43123948   \n",
       "585      chr10  43254113  43256775  NM_001018125       0      +    43254113   \n",
       "586      chr10  43264416  43405225  NM_001134725       0      +    43264416   \n",
       "\n",
       "     Thickend  itemRGB  \n",
       "0       10331        0  \n",
       "1       10853        0  \n",
       "2       17259        0  \n",
       "3       50938        0  \n",
       "4       56542        0  \n",
       "..        ...      ...  \n",
       "582  43088380        0  \n",
       "583  43093402        0  \n",
       "584  43151643        0  \n",
       "585  43256775        0  \n",
       "586  43405225        0  \n",
       "\n",
       "[587 rows x 9 columns]"
      ]
     },
     "execution_count": 12,
     "metadata": {},
     "output_type": "execute_result"
    }
   ],
   "source": [
    "alignment.drop(columns=[\"smth1\", \"smth2\", \"smth3\"], inplace=True)\n",
    "alignment"
   ]
  },
  {
   "cell_type": "code",
   "execution_count": 23,
   "metadata": {},
   "outputs": [
    {
     "name": "stdout",
     "output_type": "stream",
     "text": [
      "Overall, 143924 zdnas intersect with at least one gene, 195952 do not\n"
     ]
    }
   ],
   "source": [
    "# Это ответ для zdna\n",
    "inters = 0\n",
    "for num, zdna_row in zdnas.iterrows():\n",
    "    inter_total = 0\n",
    "    inter_number = 0\n",
    "    for tmp1, al_row in alignment.iterrows():\n",
    "        leng = min(al_row[\"End\"], zdna_row[\"End\"]) - max(al_row[\"Start\"], zdna_row[\"Start\"])\n",
    "        if leng > 0:\n",
    "            inter_number += 1\n",
    "            inter_total += leng\n",
    "    inters += int(bool(inter_number))\n",
    "    length = (zdna_row[\"End\"] - zdna_row[\"Start\"])\n",
    "    if DEBUG: print(f\"zdna #{num} intersects with {inter_number} genes by {inter_total} positions in total, overall length is {length}\")\n",
    "\n",
    "count_not_intersect = len(zdnas) - inters\n",
    "print(f\"Overall, {inters} zdnas intersect with at least one gene, {count_not_intersect} do not\")"
   ]
  },
  {
   "cell_type": "markdown",
   "metadata": {},
   "source": [
    "Получаем, что **143924** из **339876** Z-ДНК пересекает хотя бы 1 ген. Чтобы понять, в какие участки попадает Z-ДНК, следует в написанном выше коде присвоить переменной `DEBUG` значение `True`"
   ]
  },
  {
   "cell_type": "code",
   "execution_count": 28,
   "metadata": {},
   "outputs": [
    {
     "name": "stdout",
     "output_type": "stream",
     "text": [
      "Overall, 77 quads intersect with at least one gene, 139 do not\n"
     ]
    }
   ],
   "source": [
    "# Это ответ для квадруплексов\n",
    "inters = 0\n",
    "for num, quad in enumerate(PQS):\n",
    "    inter_total = 0\n",
    "    inter_number = 0\n",
    "    for tmp1, al_row in alignment.iterrows():\n",
    "        leng = min(al_row[\"End\"], quad[1]) - max(al_row[\"Start\"], quad[0])\n",
    "        if leng > 0:\n",
    "            inter_number += 1\n",
    "            inter_total += leng\n",
    "    inters += int(bool(inter_number))\n",
    "    length = quad[1] - quad[0]\n",
    "    if DEBUG: print(f\"quad #{num} intersects with {inter_number} genes by {inter_total} positions in total, overall length is {length}\")\n",
    "\n",
    "count_not_intersect = len(PQS) - inters\n",
    "print(f\"Overall, {inters} quads intersect with at least one gene, {count_not_intersect} do not\")"
   ]
  },
  {
   "cell_type": "markdown",
   "metadata": {},
   "source": [
    "Получаем, что **77** из **216** квадруплексов пересекает хотя бы 1 ген. Чтобы понять, в какие участки попадает квадруплекс, следует в написанном выше коде присвоить переменной `DEBUG` значение `True`"
   ]
  },
  {
   "cell_type": "markdown",
   "metadata": {},
   "source": [
    "# Задание №4: Предоставить список генов, в промоторы которых попадает Z-ДНК"
   ]
  },
  {
   "cell_type": "markdown",
   "metadata": {},
   "source": [
    "Скачаем из `TableBrowser` аннотацию с `upstream=1000` и откроем тут"
   ]
  },
  {
   "cell_type": "code",
   "execution_count": 6,
   "metadata": {},
   "outputs": [],
   "source": [
    "alignment = pd.read_csv(\"zebrafish_alignment_upstream\", names=[\"Chromosome\", \"Start\", \"End\", \"Name\", \"Score?\", \"Strand\"], delimiter=\"\\t\")"
   ]
  },
  {
   "cell_type": "code",
   "execution_count": 31,
   "metadata": {},
   "outputs": [
    {
     "name": "stdout",
     "output_type": "stream",
     "text": [
      "Promotor for NM_001080689_up_1000_chr10_10348_r intersects with 1016 zdnas\n",
      "Promotor for NM_001347739_up_1000_chr10_12276_r intersects with 1021 zdnas\n",
      "Promotor for NM_001003421_up_1000_chr10_11799_f intersects with 1015 zdnas\n",
      "Promotor for NM_199712_up_1000_chr10_45802_f intersects with 1021 zdnas\n",
      "Promotor for NM_001039110_up_1000_chr10_56560_r intersects with 1021 zdnas\n",
      "Promotor for NM_001008616_up_1000_chr10_192988_r intersects with 1015 zdnas\n",
      "Promotor for NM_001099984_up_1000_chr10_688049_r intersects with 1015 zdnas\n",
      "Promotor for NM_001328426_up_1000_chr10_132252_f intersects with 1021 zdnas\n",
      "Promotor for NM_200337_up_1000_chr10_139143_f intersects with 1015 zdnas\n",
      "Promotor for NM_131836_up_1000_chr10_162354_f intersects with 1015 zdnas\n",
      "Promotor for NM_001023580_up_1000_chr10_204009_f intersects with 1015 zdnas\n",
      "Promotor for NM_001002714_up_1000_chr10_227135_r intersects with 1015 zdnas\n",
      "Promotor for NM_001257340_up_1000_chr10_229334_f intersects with 1016 zdnas\n",
      "Promotor for NM_199984_up_1000_chr10_317988_r intersects with 1016 zdnas\n",
      "Promotor for NR_023334_up_1000_chr10_325690_r intersects with 1020 zdnas\n",
      "Promotor for NM_212815_up_1000_chr10_336871_r intersects with 1015 zdnas\n",
      "Promotor for NM_001110452_up_1000_chr10_347088_r intersects with 1018 zdnas\n",
      "Promotor for NM_001102623_up_1000_chr10_356597_f intersects with 1018 zdnas\n",
      "Promotor for NM_001089389_up_1000_chr10_529589_f intersects with 1016 zdnas\n",
      "Promotor for NM_001122700_up_1000_chr10_585658_f intersects with 1020 zdnas\n",
      "Promotor for NM_001080048_up_1000_chr10_603855_r intersects with 1016 zdnas\n",
      "Promotor for NM_001080607_up_1000_chr10_875182_f intersects with 1015 zdnas\n",
      "Promotor for NM_001080048_up_1000_chr10_923929_f intersects with 1017 zdnas\n",
      "Promotor for NM_001114912_up_1000_chr10_977696_r intersects with 1015 zdnas\n",
      "Promotor for NM_001122700_up_1000_chr10_981409_r intersects with 1023 zdnas\n",
      "Promotor for NM_001037661_up_1000_chr10_1021516_f intersects with 1015 zdnas\n",
      "Promotor for NM_001128268_up_1000_chr10_1032567_r intersects with 1017 zdnas\n",
      "Promotor for NM_001008630_up_1000_chr10_1174498_r intersects with 1018 zdnas\n",
      "Promotor for NM_001145996_up_1000_chr10_1334914_r intersects with 1016 zdnas\n"
     ]
    },
    {
     "ename": "",
     "evalue": "",
     "output_type": "error",
     "traceback": [
      "\u001b[1;31mThe Kernel crashed while executing code in the the current cell or a previous cell. Please review the code in the cell(s) to identify a possible cause of the failure. Click <a href='https://aka.ms/vscodeJupyterKernelCrash'>here</a> for more info. View Jupyter <a href='command:jupyter.viewOutput'>log</a> for further details."
     ]
    },
    {
     "ename": "",
     "evalue": "",
     "output_type": "error",
     "traceback": [
      "\u001b[1;31mCanceled future for execute_request message before replies were done"
     ]
    }
   ],
   "source": [
    "with open(\"interesting_genes_for_enrichment\", \"w\") as f:\n",
    "    inters = 0\n",
    "    for tmp1, al_row in alignment.iterrows():\n",
    "        inter_number = 0\n",
    "        for num, zdna_row in df.iterrows():\n",
    "            leng = min(al_row[\"End\"], zdna_row[\"End\"]) - max(al_row[\"Start\"], zdna_row[\"Start\"])\n",
    "            if leng > 0:\n",
    "                inter_number += 1\n",
    "        inters += int(bool(inter_number))\n",
    "        if inter_number:\n",
    "            row = al_row[\"Name\"]\n",
    "            print(f\"Promotor for {row} intersects with {inter_number} zdnas\")\n",
    "            f.write(row.split(\".\")[0] + \"\\n\")\n",
    "\n",
    "    count_not_intersect = len(alignment) - inters\n",
    "    print(f\"Overall, {inters} gene promotors intersect with at least one zdna, {count_not_intersect} do not\")"
   ]
  },
  {
   "cell_type": "code",
   "execution_count": 13,
   "metadata": {},
   "outputs": [
    {
     "data": {
      "image/jpeg": "[encoded data removed]",
      "text/plain": [
       "<IPython.core.display.Image object>"
      ]
     },
     "execution_count": 13,
     "metadata": {},
     "output_type": "execute_result"
    }
   ],
   "source": [
    "from IPython.display import Image\n",
    "Image(filename='кот_упал.jpeg')\n"
   ]
  },
  {
   "cell_type": "markdown",
   "metadata": {},
   "source": [
    "К сожалению, после более 6 часов работы мой ядро устало и решило упасть. Чтобы этого не было, мне столо изначально выбрать **более мальнекий ген**.\n",
    "\n",
    "Но несмотря на это, данная функция выдает правильный список генов, в промоторы которых попадает Z-ДНК, и говорит, сколько Z-ДНК пересекло конкретный промотор. "
   ]
  },
  {
   "cell_type": "markdown",
   "metadata": {},
   "source": [
    "Файл `interesting_genes_for_enrichment` нужен для последнего 6-го задания, однако из-за возникшей ошибки в файле не сохранились изменения. "
   ]
  },
  {
   "cell_type": "markdown",
   "metadata": {},
   "source": [
    "# Задание №5: Предоставить список генов, в промоторы которых попадает квадруплексы."
   ]
  },
  {
   "cell_type": "code",
   "execution_count": 7,
   "metadata": {},
   "outputs": [],
   "source": [
    "with open(\"interesting_genes_for_enrichment\", \"r\") as f:\n",
    "    genes = set([x.strip() for x in f.readlines()])"
   ]
  },
  {
   "cell_type": "code",
   "execution_count": 10,
   "metadata": {},
   "outputs": [
    {
     "name": "stdout",
     "output_type": "stream",
     "text": [
      "Overall, 0 gene promotors intersect with at least one quadruplex, 587 do not\n"
     ]
    }
   ],
   "source": [
    "with open(\"interesting_genes_for_enrichment\", \"a\") as f:\n",
    "    inters = 0\n",
    "    for tmp1, al_row in alignment.iterrows():\n",
    "        inter_number = 0\n",
    "        for num, quad in enumerate(PQS):\n",
    "            leng = min(al_row[\"End\"], quad[1]) - max(al_row[\"Start\"], quad[0])\n",
    "            if leng > 0:\n",
    "                inter_number += 1\n",
    "        inters += int(bool(inter_number))\n",
    "        if inter_number:\n",
    "            row = al_row[\"Name\"]\n",
    "            print(f\"Promotor for {row} intersects with {inter_number} quadruplexes\")\n",
    "            if row.split(\".\")[0] not in genes:\n",
    "                f.write(row.split(\".\")[0])\n",
    "    \n",
    "    count_not_intersect = len(alignment) - inters\n",
    "    print(f\"Overall, {inters} gene promotors intersect with at least one quadruplex, {count_not_intersect} do not\")"
   ]
  },
  {
   "cell_type": "markdown",
   "metadata": {},
   "source": [
    "Список генов, в промоторы которых попадает квадруплексы, - **пуст**."
   ]
  }
 ],
 "metadata": {
  "kernelspec": {
   "display_name": "Python 3.10.0 64-bit",
   "language": "python",
   "name": "python3"
  },
  "language_info": {
   "codemirror_mode": {
    "name": "ipython",
    "version": 3
   },
   "file_extension": ".py",
   "mimetype": "text/x-python",
   "name": "python",
   "nbconvert_exporter": "python",
   "pygments_lexer": "ipython3",
   "version": "3.10.0"
  },
  "orig_nbformat": 4,
  "vscode": {
   "interpreter": {
    "hash": "aee8b7b246df8f9039afb4144a1f6fd8d2ca17a180786b69acc140d282b71a49"
   }
  }
 },
 "nbformat": 4,
 "nbformat_minor": 2
}
